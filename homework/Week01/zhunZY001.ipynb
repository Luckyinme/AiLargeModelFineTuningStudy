{
 "cells": [
  {
   "cell_type": "code",
   "execution_count": 6,
   "id": "5e0b7298-6a9a-4766-9a88-dfc12f72d244",
   "metadata": {
    "scrolled": true
   },
   "outputs": [
    {
     "name": "stderr",
     "output_type": "stream",
     "text": [
      "No model was supplied, defaulted to distilbert-base-uncased-finetuned-sst-2-english and revision af0f99b (https://huggingface.co/distilbert-base-uncased-finetuned-sst-2-english).\n",
      "Using a pipeline without specifying a model name and revision in production is not recommended.\n"
     ]
    },
    {
     "data": {
      "text/plain": [
       "[{'label': 'POSITIVE', 'score': 0.6782417893409729},\n",
       " {'label': 'NEGATIVE', 'score': 0.8569008708000183},\n",
       " {'label': 'NEGATIVE', 'score': 0.8303107619285583},\n",
       " {'label': 'NEGATIVE', 'score': 0.8371337056159973},\n",
       " {'label': 'NEGATIVE', 'score': 0.8883470892906189},\n",
       " {'label': 'POSITIVE', 'score': 0.99965500831604},\n",
       " {'label': 'NEGATIVE', 'score': 0.9958815574645996},\n",
       " {'label': 'POSITIVE', 'score': 0.9997220635414124},\n",
       " {'label': 'POSITIVE', 'score': 0.9980218410491943},\n",
       " {'label': 'POSITIVE', 'score': 0.999870777130127}]"
      ]
     },
     "execution_count": 6,
     "metadata": {},
     "output_type": "execute_result"
    }
   ],
   "source": [
    "from transformers import pipeline\n",
    "pipe = pipeline(\"sentiment-analysis\")\n",
    "texts = [\"她学习真好\",\"他太调皮了\",\"今天上海市浦东新区是晴天吧\",\"你学东西真的很快，一讲就明白了\",\"你真行啊，把作业撕了\",\n",
    "         \"She studies really well\", \"He is too naughty\", \"Is it sunny in Pudong New Area, Shanghai today\",\n",
    "         \"You learn things really fast, you understand as soon as I explain it\", \"You're really good, tear up your homework\"]\n",
    "pipe(texts)"
   ]
  },
  {
   "cell_type": "code",
   "execution_count": null,
   "id": "b33f3bef-a2ce-4014-8928-a02599553a8e",
   "metadata": {},
   "outputs": [],
   "source": [
    "# 默认加载的模型：distilbert-base-uncased-finetuned-sst-2-english\n",
    "# 对于英文和中文，都无法识别出转折句的含义，例如 第5句和第10句"
   ]
  },
  {
   "cell_type": "code",
   "execution_count": 6,
   "id": "58ef4900-788d-4825-b34e-d8ed6088e2a6",
   "metadata": {},
   "outputs": [
    {
     "ename": "NameError",
     "evalue": "name 'pipeline' is not defined",
     "output_type": "error",
     "traceback": [
      "\u001b[0;31m---------------------------------------------------------------------------\u001b[0m",
      "\u001b[0;31mNameError\u001b[0m                                 Traceback (most recent call last)",
      "Cell \u001b[0;32mIn[6], line 3\u001b[0m\n\u001b[1;32m      1\u001b[0m \u001b[38;5;28;01mimport\u001b[39;00m\u001b[38;5;250m \u001b[39m\u001b[38;5;21;01mos\u001b[39;00m\n\u001b[1;32m      2\u001b[0m \u001b[38;5;28;01mfrom\u001b[39;00m\u001b[38;5;250m \u001b[39m\u001b[38;5;21;01mhuggingface_hub\u001b[39;00m\u001b[38;5;250m \u001b[39m\u001b[38;5;28;01mimport\u001b[39;00m InferenceClient\n\u001b[0;32m----> 3\u001b[0m pipe \u001b[38;5;241m=\u001b[39m \u001b[43mpipeline\u001b[49m(model\u001b[38;5;241m=\u001b[39m\u001b[38;5;124m\"\u001b[39m\u001b[38;5;124mtabularisai/multilingual-sentiment-analysis\u001b[39m\u001b[38;5;124m\"\u001b[39m)\n\u001b[1;32m      4\u001b[0m texts \u001b[38;5;241m=\u001b[39m [\u001b[38;5;124m\"\u001b[39m\u001b[38;5;124m她学习真好\u001b[39m\u001b[38;5;124m\"\u001b[39m,\u001b[38;5;124m\"\u001b[39m\u001b[38;5;124m他太调皮了\u001b[39m\u001b[38;5;124m\"\u001b[39m,\u001b[38;5;124m\"\u001b[39m\u001b[38;5;124m今天上海市浦东新区是晴天吧\u001b[39m\u001b[38;5;124m\"\u001b[39m,\u001b[38;5;124m\"\u001b[39m\u001b[38;5;124m你学东西真的很快，一讲就明白了\u001b[39m\u001b[38;5;124m\"\u001b[39m,\u001b[38;5;124m\"\u001b[39m\u001b[38;5;124m你真行啊，把作业撕了\u001b[39m\u001b[38;5;124m\"\u001b[39m,\n\u001b[1;32m      5\u001b[0m          \u001b[38;5;124m\"\u001b[39m\u001b[38;5;124mShe studies really well\u001b[39m\u001b[38;5;124m\"\u001b[39m, \u001b[38;5;124m\"\u001b[39m\u001b[38;5;124mHe is too naughty\u001b[39m\u001b[38;5;124m\"\u001b[39m, \u001b[38;5;124m\"\u001b[39m\u001b[38;5;124mIs it sunny in Pudong New Area, Shanghai today\u001b[39m\u001b[38;5;124m\"\u001b[39m,\n\u001b[1;32m      6\u001b[0m          \u001b[38;5;124m\"\u001b[39m\u001b[38;5;124mYou learn things really fast, you understand as soon as I explain it\u001b[39m\u001b[38;5;124m\"\u001b[39m, \u001b[38;5;124m\"\u001b[39m\u001b[38;5;124mYou\u001b[39m\u001b[38;5;124m'\u001b[39m\u001b[38;5;124mre really good, tear up your homework\u001b[39m\u001b[38;5;124m\"\u001b[39m]\n\u001b[1;32m      7\u001b[0m pipe(texts)\n",
      "\u001b[0;31mNameError\u001b[0m: name 'pipeline' is not defined"
     ]
    }
   ],
   "source": [
    "import os\n",
    "from huggingface_hub import InferenceClient\n",
    "pipe = pipeline(model=\"tabularisai/multilingual-sentiment-analysis\")\n",
    "texts = [\"她学习真好\",\"他太调皮了\",\"今天上海市浦东新区是晴天吧\",\"你学东西真的很快，一讲就明白了\",\"你真行啊，把作业撕了\",\n",
    "         \"She studies really well\", \"He is too naughty\", \"Is it sunny in Pudong New Area, Shanghai today\",\n",
    "         \"You learn things really fast, you understand as soon as I explain it\", \"You're really good, tear up your homework\"]\n",
    "pipe(texts)"
   ]
  },
  {
   "cell_type": "code",
   "execution_count": null,
   "id": "8cfa7849-b92a-49cc-af5a-586e7ea22651",
   "metadata": {},
   "outputs": [],
   "source": [
    "# 报错：NameError: name 'pipeline' is not defined\n",
    "# 处理：需导入from transformers import pipeline"
   ]
  },
  {
   "cell_type": "code",
   "execution_count": 7,
   "id": "1172f807-f971-43d3-9d25-02397510f406",
   "metadata": {},
   "outputs": [
    {
     "name": "stderr",
     "output_type": "stream",
     "text": [
      "/usr/local/lib/python3.10/dist-packages/huggingface_hub/file_download.py:945: FutureWarning: `resume_download` is deprecated and will be removed in version 1.0.0. Downloads always resume when possible. If you want to force a new download, use `force_download=True`.\n",
      "  warnings.warn(\n"
     ]
    },
    {
     "data": {
      "text/plain": [
       "[{'label': 'Positive', 'score': 0.7366536855697632},\n",
       " {'label': 'Negative', 'score': 0.5101722478866577},\n",
       " {'label': 'Very Positive', 'score': 0.3803640604019165},\n",
       " {'label': 'Positive', 'score': 0.8692654371261597},\n",
       " {'label': 'Very Negative', 'score': 0.698662281036377},\n",
       " {'label': 'Positive', 'score': 0.8975066542625427},\n",
       " {'label': 'Negative', 'score': 0.8196515440940857},\n",
       " {'label': 'Neutral', 'score': 0.6664878726005554},\n",
       " {'label': 'Positive', 'score': 0.6489349603652954},\n",
       " {'label': 'Positive', 'score': 0.8404128551483154}]"
      ]
     },
     "execution_count": 7,
     "metadata": {},
     "output_type": "execute_result"
    }
   ],
   "source": [
    "from transformers import pipeline\n",
    "import os\n",
    "from huggingface_hub import InferenceClient\n",
    "pipe = pipeline(model=\"tabularisai/multilingual-sentiment-analysis\")\n",
    "texts = [\"她学习真好\",\"他太调皮了\",\"今天上海市浦东新区是晴天吧\",\"你学东西真的很快，一讲就明白了\",\"你真行啊，把作业撕了\",\n",
    "         \"She studies really well\", \"He is too naughty\", \"Is it sunny in Pudong New Area, Shanghai today\",\n",
    "         \"You learn things really fast, you understand as soon as I explain it\", \"You're really good, tear up your homework\"]\n",
    "pipe(texts)"
   ]
  },
  {
   "cell_type": "code",
   "execution_count": null,
   "id": "88653b54-a560-42b4-a27b-c4220915718c",
   "metadata": {},
   "outputs": [],
   "source": [
    "# Positive 积极；Negative 消极；Positive 中性；\n",
    "# 第3句中文 错误；第10句英文 错误；转折语句，中英文都识别错误；"
   ]
  },
  {
   "cell_type": "code",
   "execution_count": 28,
   "id": "d93961b2-3c71-4b74-b0d9-39bbaf8863c0",
   "metadata": {},
   "outputs": [],
   "source": [
    "def pipe_better(texts, modelName):\n",
    "    results = pipe(texts)\n",
    "    print(f\"[使用模型]：{modelName}\\n------------------------\")\n",
    "    for idx, (text, res) in enumerate(zip(texts, results), start=1):\n",
    "        print(f\"[{idx}].原文: {text}\\n    结果: {res}\\n\")\n",
    "        # print(f\"[{idx}]. 原文: {text}\\n   结果: {res['label']} (置信度: {res['score']:.2f})\\n\")"
   ]
  },
  {
   "cell_type": "code",
   "execution_count": null,
   "id": "cbd96a31-af58-457d-bba0-d2738c5fd861",
   "metadata": {},
   "outputs": [],
   "source": [
    "# 创建自定义pipe输出函数，优化输出格式"
   ]
  },
  {
   "cell_type": "code",
   "execution_count": 29,
   "id": "9f619d62-8495-4a83-930f-b3cae7deef4a",
   "metadata": {},
   "outputs": [
    {
     "name": "stdout",
     "output_type": "stream",
     "text": [
      "[使用模型]：mrm8488/distilroberta-finetuned-financial-news-sentiment-analysis\n",
      "------------------------\n",
      "[1].原文: 她学习真好\n",
      "    结果: {'label': 'neutral', 'score': 0.9998657703399658}\n",
      "\n",
      "[2].原文: 他太调皮了\n",
      "    结果: {'label': 'neutral', 'score': 0.9998705387115479}\n",
      "\n",
      "[3].原文: 今天上海市浦东新区是晴天吧\n",
      "    结果: {'label': 'neutral', 'score': 0.9998645782470703}\n",
      "\n",
      "[4].原文: 你学东西真的很快，一讲就明白了\n",
      "    结果: {'label': 'neutral', 'score': 0.9998537302017212}\n",
      "\n",
      "[5].原文: 你真行啊，把作业撕了\n",
      "    结果: {'label': 'neutral', 'score': 0.9998576641082764}\n",
      "\n",
      "[6].原文: She studies really well\n",
      "    结果: {'label': 'positive', 'score': 0.9802538752555847}\n",
      "\n",
      "[7].原文: He is too naughty\n",
      "    结果: {'label': 'neutral', 'score': 0.999661922454834}\n",
      "\n",
      "[8].原文: Is it sunny in Pudong New Area, Shanghai today\n",
      "    结果: {'label': 'neutral', 'score': 0.9997953772544861}\n",
      "\n",
      "[9].原文: You learn things really fast, you understand as soon as I explain it\n",
      "    结果: {'label': 'neutral', 'score': 0.9991149306297302}\n",
      "\n",
      "[10].原文: You're really good, tear up your homework\n",
      "    结果: {'label': 'neutral', 'score': 0.9767670035362244}\n",
      "\n"
     ]
    }
   ],
   "source": [
    "from transformers import pipeline\n",
    "import os\n",
    "from huggingface_hub import InferenceClient\n",
    "modelName = \"mrm8488/distilroberta-finetuned-financial-news-sentiment-analysis\"\n",
    "pipe = pipeline(model=modelName)\n",
    "texts = [\"她学习真好\",\"他太调皮了\",\"今天上海市浦东新区是晴天吧\",\"你学东西真的很快，一讲就明白了\",\"你真行啊，把作业撕了\",\n",
    "         \"She studies really well\", \"He is too naughty\", \"Is it sunny in Pudong New Area, Shanghai today\",\n",
    "         \"You learn things really fast, you understand as soon as I explain it\", \"You're really good, tear up your homework\"]\n",
    "pipe_better(texts,modelName)"
   ]
  },
  {
   "cell_type": "code",
   "execution_count": null,
   "id": "b41b9ef0-7e7b-44f3-b3eb-64c2d31415fc",
   "metadata": {},
   "outputs": [],
   "source": [
    "# 第5句中文 错误；第10句英文 错误；转折语句，中英文识别有误；"
   ]
  },
  {
   "cell_type": "code",
   "execution_count": 30,
   "id": "91d1495f-0d5d-46fe-b8a2-c6573268b63b",
   "metadata": {},
   "outputs": [
    {
     "name": "stdout",
     "output_type": "stream",
     "text": [
      "[使用模型]：finiteautomata/bertweet-base-sentiment-analysis\n",
      "------------------------\n",
      "[1].原文: 她学习真好\n",
      "    结果: {'label': 'NEU', 'score': 0.9490436315536499}\n",
      "\n",
      "[2].原文: 他太调皮了\n",
      "    结果: {'label': 'NEU', 'score': 0.9277748465538025}\n",
      "\n",
      "[3].原文: 今天上海市浦东新区是晴天吧\n",
      "    结果: {'label': 'NEU', 'score': 0.9639344811439514}\n",
      "\n",
      "[4].原文: 你学东西真的很快，一讲就明白了\n",
      "    结果: {'label': 'NEU', 'score': 0.9607495665550232}\n",
      "\n",
      "[5].原文: 你真行啊，把作业撕了\n",
      "    结果: {'label': 'NEU', 'score': 0.9422714114189148}\n",
      "\n",
      "[6].原文: She studies really well\n",
      "    结果: {'label': 'POS', 'score': 0.9749736785888672}\n",
      "\n",
      "[7].原文: He is too naughty\n",
      "    结果: {'label': 'NEU', 'score': 0.6346505880355835}\n",
      "\n",
      "[8].原文: Is it sunny in Pudong New Area, Shanghai today\n",
      "    结果: {'label': 'NEU', 'score': 0.660494327545166}\n",
      "\n",
      "[9].原文: You learn things really fast, you understand as soon as I explain it\n",
      "    结果: {'label': 'POS', 'score': 0.6413079500198364}\n",
      "\n",
      "[10].原文: You're really good, tear up your homework\n",
      "    结果: {'label': 'POS', 'score': 0.8641204237937927}\n",
      "\n"
     ]
    }
   ],
   "source": [
    "from transformers import pipeline\n",
    "import os\n",
    "from huggingface_hub import InferenceClient\n",
    "modelName = \"finiteautomata/bertweet-base-sentiment-analysis\"\n",
    "pipe = pipeline(model=modelName)\n",
    "texts = [\"她学习真好\",\"他太调皮了\",\"今天上海市浦东新区是晴天吧\",\"你学东西真的很快，一讲就明白了\",\"你真行啊，把作业撕了\",\n",
    "         \"She studies really well\", \"He is too naughty\", \"Is it sunny in Pudong New Area, Shanghai today\",\n",
    "         \"You learn things really fast, you understand as soon as I explain it\", \"You're really good, tear up your homework\"]\n",
    "pipe_better(texts,modelName)"
   ]
  },
  {
   "cell_type": "code",
   "execution_count": null,
   "id": "a8a157f1-7e64-4768-9dcc-8ba0ea9e4c4a",
   "metadata": {},
   "outputs": [],
   "source": [
    "# 第5句中文 错误；第10句英文 错误；转折语句，中英文识别有误；"
   ]
  },
  {
   "cell_type": "code",
   "execution_count": 31,
   "id": "e2a2cf46-15ca-40e5-a614-348564d143a4",
   "metadata": {},
   "outputs": [
    {
     "name": "stdout",
     "output_type": "stream",
     "text": [
      "[使用模型]：ahmedrachid/FinancialBERT-Sentiment-Analysis\n",
      "------------------------\n",
      "[1].原文: 她学习真好\n",
      "    结果: {'label': 'neutral', 'score': 0.9965393543243408}\n",
      "\n",
      "[2].原文: 他太调皮了\n",
      "    结果: {'label': 'neutral', 'score': 0.9993277788162231}\n",
      "\n",
      "[3].原文: 今天上海市浦东新区是晴天吧\n",
      "    结果: {'label': 'neutral', 'score': 0.9749723076820374}\n",
      "\n",
      "[4].原文: 你学东西真的很快，一讲就明白了\n",
      "    结果: {'label': 'neutral', 'score': 0.9832062721252441}\n",
      "\n",
      "[5].原文: 你真行啊，把作业撕了\n",
      "    结果: {'label': 'neutral', 'score': 0.9960848093032837}\n",
      "\n",
      "[6].原文: She studies really well\n",
      "    结果: {'label': 'neutral', 'score': 0.8639757037162781}\n",
      "\n",
      "[7].原文: He is too naughty\n",
      "    结果: {'label': 'neutral', 'score': 0.999039351940155}\n",
      "\n",
      "[8].原文: Is it sunny in Pudong New Area, Shanghai today\n",
      "    结果: {'label': 'neutral', 'score': 0.9996137022972107}\n",
      "\n",
      "[9].原文: You learn things really fast, you understand as soon as I explain it\n",
      "    结果: {'label': 'neutral', 'score': 0.9994743466377258}\n",
      "\n",
      "[10].原文: You're really good, tear up your homework\n",
      "    结果: {'label': 'neutral', 'score': 0.997287392616272}\n",
      "\n"
     ]
    }
   ],
   "source": [
    "from transformers import pipeline\n",
    "import os\n",
    "from huggingface_hub import InferenceClient\n",
    "modelName = \"ahmedrachid/FinancialBERT-Sentiment-Analysis\"\n",
    "pipe = pipeline(model=modelName)\n",
    "texts = [\"她学习真好\",\"他太调皮了\",\"今天上海市浦东新区是晴天吧\",\"你学东西真的很快，一讲就明白了\",\"你真行啊，把作业撕了\",\n",
    "         \"She studies really well\", \"He is too naughty\", \"Is it sunny in Pudong New Area, Shanghai today\",\n",
    "         \"You learn things really fast, you understand as soon as I explain it\", \"You're really good, tear up your homework\"]\n",
    "pipe_better(texts,modelName)"
   ]
  },
  {
   "cell_type": "code",
   "execution_count": null,
   "id": "eaabb766-89e8-4896-bd34-f82f3abc68b1",
   "metadata": {},
   "outputs": [],
   "source": [
    "# 第5句中文 错误；第10句英文 错误；转折语句，中英文识别有误；"
   ]
  },
  {
   "cell_type": "code",
   "execution_count": null,
   "id": "9e1c6886-2a5a-4888-80bb-3a2afced5db5",
   "metadata": {},
   "outputs": [],
   "source": [
    "#以上模型，转折语句，中英文识别均有误；\n",
    "#除了转折语句识别问题，比较好的模型：\n",
    "# mrm8488/distilroberta-finetuned-financial-news-sentiment-analysis\n",
    "# finiteautomata/bertweet-base-sentiment-analysis\n",
    "# ahmedrachid/FinancialBERT-Sentiment-Analysis"
   ]
  }
 ],
 "metadata": {
  "kernelspec": {
   "display_name": "Python 3 (ipykernel)",
   "language": "python",
   "name": "python3"
  },
  "language_info": {
   "codemirror_mode": {
    "name": "ipython",
    "version": 3
   },
   "file_extension": ".py",
   "mimetype": "text/x-python",
   "name": "python",
   "nbconvert_exporter": "python",
   "pygments_lexer": "ipython3",
   "version": "3.10.12"
  }
 },
 "nbformat": 4,
 "nbformat_minor": 5
}
