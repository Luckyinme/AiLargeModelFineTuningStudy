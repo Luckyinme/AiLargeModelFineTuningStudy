{
 "cells": [
  {
   "cell_type": "code",
   "execution_count": 1,
   "id": "53dac2b4-2d2d-44f2-a140-65272f28cc2b",
   "metadata": {},
   "outputs": [
    {
     "name": "stderr",
     "output_type": "stream",
     "text": [
      "/usr/local/lib/python3.10/dist-packages/tqdm/auto.py:21: TqdmWarning: IProgress not found. Please update jupyter and ipywidgets. See https://ipywidgets.readthedocs.io/en/stable/user_install.html\n",
      "  from .autonotebook import tqdm as notebook_tqdm\n"
     ]
    }
   ],
   "source": [
    "# 模型推理 - 使用 QLoRA 微调后的 ChatGLM-6B\n",
    "import torch\n",
    "from transformers import AutoModel, AutoTokenizer, BitsAndBytesConfig\n",
    "\n",
    "# 模型ID或本地路径\n",
    "model_name_or_path = 'THUDM/chatglm3-6b'"
   ]
  },
  {
   "cell_type": "code",
   "execution_count": 2,
   "id": "8d73fc95-3baf-421a-b2f3-147501acd95e",
   "metadata": {},
   "outputs": [
    {
     "name": "stderr",
     "output_type": "stream",
     "text": [
      "/usr/local/lib/python3.10/dist-packages/huggingface_hub/file_download.py:945: FutureWarning: `resume_download` is deprecated and will be removed in version 1.0.0. Downloads always resume when possible. If you want to force a new download, use `force_download=True`.\n",
      "  warnings.warn(\n",
      "/usr/local/lib/python3.10/dist-packages/huggingface_hub/file_download.py:945: FutureWarning: `resume_download` is deprecated and will be removed in version 1.0.0. Downloads always resume when possible. If you want to force a new download, use `force_download=True`.\n",
      "  warnings.warn(\n",
      "Loading checkpoint shards: 100%|██████████| 7/7 [01:05<00:00,  9.37s/it]\n",
      "/usr/local/lib/python3.10/dist-packages/huggingface_hub/file_download.py:945: FutureWarning: `resume_download` is deprecated and will be removed in version 1.0.0. Downloads always resume when possible. If you want to force a new download, use `force_download=True`.\n",
      "  warnings.warn(\n"
     ]
    }
   ],
   "source": [
    "_compute_dtype_map = {\n",
    "    'fp32': torch.float32,\n",
    "    'fp16': torch.float16,\n",
    "    'bf16': torch.bfloat16\n",
    "}\n",
    "\n",
    "# QLoRA 量化配置\n",
    "q_config = BitsAndBytesConfig(load_in_4bit=True,\n",
    "                              bnb_4bit_quant_type='nf4',\n",
    "                              bnb_4bit_use_double_quant=True,\n",
    "                              bnb_4bit_compute_dtype=_compute_dtype_map['bf16'])\n",
    "\n",
    "# 加载量化后模型(与微调的 revision 保持一致）\n",
    "base_model = AutoModel.from_pretrained(model_name_or_path,\n",
    "                                      quantization_config=q_config,\n",
    "                                      device_map='auto',\n",
    "                                      trust_remote_code=True,\n",
    "                                      revision='b098244')"
   ]
  },
  {
   "cell_type": "code",
   "execution_count": 3,
   "id": "c20bae3e-f4d8-4937-a912-697676467419",
   "metadata": {},
   "outputs": [
    {
     "data": {
      "text/plain": [
       "ChatGLMForConditionalGeneration(\n",
       "  (transformer): ChatGLMModel(\n",
       "    (embedding): Embedding(\n",
       "      (word_embeddings): Embedding(65024, 4096)\n",
       "    )\n",
       "    (rotary_pos_emb): RotaryEmbedding()\n",
       "    (encoder): GLMTransformer(\n",
       "      (layers): ModuleList(\n",
       "        (0-27): 28 x GLMBlock(\n",
       "          (input_layernorm): RMSNorm()\n",
       "          (self_attention): SelfAttention(\n",
       "            (query_key_value): Linear4bit(in_features=4096, out_features=4608, bias=True)\n",
       "            (core_attention): CoreAttention(\n",
       "              (attention_dropout): Dropout(p=0.0, inplace=False)\n",
       "            )\n",
       "            (dense): Linear4bit(in_features=4096, out_features=4096, bias=False)\n",
       "          )\n",
       "          (post_attention_layernorm): RMSNorm()\n",
       "          (mlp): MLP(\n",
       "            (dense_h_to_4h): Linear4bit(in_features=4096, out_features=27392, bias=False)\n",
       "            (dense_4h_to_h): Linear4bit(in_features=13696, out_features=4096, bias=False)\n",
       "          )\n",
       "        )\n",
       "      )\n",
       "      (final_layernorm): RMSNorm()\n",
       "    )\n",
       "    (output_layer): Linear(in_features=4096, out_features=65024, bias=False)\n",
       "  )\n",
       ")"
      ]
     },
     "execution_count": 3,
     "metadata": {},
     "output_type": "execute_result"
    }
   ],
   "source": [
    "base_model.requires_grad_(False)\n",
    "base_model.eval()"
   ]
  },
  {
   "cell_type": "code",
   "execution_count": 4,
   "id": "87e87ba3-eab7-44f6-8e99-fcfcb23ca96b",
   "metadata": {},
   "outputs": [],
   "source": [
    "tokenizer = AutoTokenizer.from_pretrained(model_name_or_path,\n",
    "                                          trust_remote_code=True,\n",
    "                                          revision='b098244')"
   ]
  },
  {
   "cell_type": "code",
   "execution_count": 5,
   "id": "068f7bb3-c142-4827-acc9-5654f711e516",
   "metadata": {},
   "outputs": [],
   "source": [
    "# 使用原始 ChatGLM3-6B 模型\n",
    "input_text = \"解释下乾卦是什么？\""
   ]
  },
  {
   "cell_type": "code",
   "execution_count": 6,
   "id": "5d771525-f500-4d62-b951-3228cad77f7f",
   "metadata": {},
   "outputs": [],
   "source": [
    "response, history = base_model.chat(tokenizer, query=input_text)"
   ]
  },
  {
   "cell_type": "code",
   "execution_count": 7,
   "id": "f77d540c-810e-4242-b93f-900301d43a02",
   "metadata": {},
   "outputs": [
    {
     "name": "stdout",
     "output_type": "stream",
     "text": [
      "乾卦是《易经》中的第一卦，也是八卦之一。乾卦的卦象是由三个阳爻夹一个阴爻构成，象征着天、阳气、强盛、刚健等特质。在《易经》中，乾卦代表着一种积极向上、刚强有力的精神面貌。\n",
      "\n",
      "乾卦的含义非常丰富，它既象征着阳刚之气、壮丽、威严等特质，也象征着事物发展变化的规律。乾卦所传达的信息是，事物发展到一定程度就会走向鼎盛，但同时也要注意防止过度刚强，以免引起物极必反。\n",
      "\n",
      "在《易经》的六十四卦中，乾卦经常与其他卦相组合，以表达更复杂的含义。例如，乾卦与坤卦组合成乾坤之卦，象征着天地之间的和谐与配合；与震卦组合成震乾之卦，象征着激发内在的刚强力量等。因此，乾卦在《易经》中具有重要的象征意义，是研究和理解《易经》不可或缺的一部分。\n"
     ]
    }
   ],
   "source": [
    "print(response)"
   ]
  },
  {
   "cell_type": "code",
   "execution_count": 8,
   "id": "d4972707-b86b-4435-8726-f228f5294a43",
   "metadata": {},
   "outputs": [
    {
     "name": "stdout",
     "output_type": "stream",
     "text": [
      "[{'role': 'user', 'content': '解释下乾卦是什么？'}, {'role': 'assistant', 'metadata': '', 'content': '乾卦是《易经》中的第一卦，也是八卦之一。乾卦的卦象是由三个阳爻夹一个阴爻构成，象征着天、阳气、强盛、刚健等特质。在《易经》中，乾卦代表着一种积极向上、刚强有力的精神面貌。\\n\\n乾卦的含义非常丰富，它既象征着阳刚之气、壮丽、威严等特质，也象征着事物发展变化的规律。乾卦所传达的信息是，事物发展到一定程度就会走向鼎盛，但同时也要注意防止过度刚强，以免引起物极必反。\\n\\n在《易经》的六十四卦中，乾卦经常与其他卦相组合，以表达更复杂的含义。例如，乾卦与坤卦组合成乾坤之卦，象征着天地之间的和谐与配合；与震卦组合成震乾之卦，象征着激发内在的刚强力量等。因此，乾卦在《易经》中具有重要的象征意义，是研究和理解《易经》不可或缺的一部分。'}]\n"
     ]
    }
   ],
   "source": [
    "print(history)"
   ]
  },
  {
   "cell_type": "code",
   "execution_count": 9,
   "id": "8d407291-a8f5-4210-9dd4-5dce7d165e5f",
   "metadata": {},
   "outputs": [
    {
     "name": "stdout",
     "output_type": "stream",
     "text": [
      "讼卦是《易经》中的第五卦，它的卦象是由两个阴爻夹一个阳爻构成，象征着事物之间的矛盾、争端、诉讼等。因此，讼卦的含义主要涉及到人际关系、法律、争端、战争等方面的问题。\n",
      "\n",
      "在《易经》中，讼卦代表着一种平等、公正的态度，它提醒人们在处理矛盾和争端时，应该保持公正客观，避免偏袒某一方，以达到和谐稳定的状态。\n",
      "\n",
      "讼卦也象征着事物发展变化的规律，它告诉我们，任何事物在发展过程中都会遇到矛盾和争端，但是只要我们能够以公正客观的态度去处理这些问题，就能够找到解决问题的方法，使事物得以顺利发展。\n",
      "\n",
      "因此，讼卦在《易经》中具有重要的象征意义，是研究和理解《易经》不可或缺的一部分。\n"
     ]
    }
   ],
   "source": [
    "# 询问一个64卦相关问题（应该不在 ChatGLM3-6B 预训练数据中）\n",
    "response, history = base_model.chat(tokenizer, query=\"周易中的讼卦是什么？\", history=history)\n",
    "print(response)"
   ]
  },
  {
   "cell_type": "code",
   "execution_count": 11,
   "id": "a1bb8d5d-9ea2-433c-80e9-d2aa5022e4fb",
   "metadata": {},
   "outputs": [],
   "source": [
    "# 使用微调后的 ChatGLM3-6B\n",
    "# 加载 QLoRA Adapter(Epoch=3, automade-dataset(fixed)) - 请根据训练时间戳修改 timestamp\n",
    "from peft import PeftModel, PeftConfig\n",
    "\n",
    "epochs = 3\n",
    "# timestamp = \"20240118_164514\"\n",
    "# ./models/THUDM/chatglm3-6b-epoch3-20250826_092818\n",
    "timestamp = \"20250826_092818\"\n",
    "\n",
    "peft_model_path = f\"models/{model_name_or_path}-epoch{epochs}-{timestamp}\"\n",
    "\n",
    "config = PeftConfig.from_pretrained(peft_model_path)\n",
    "qlora_model = PeftModel.from_pretrained(base_model, peft_model_path)\n",
    "training_tag=f\"ChatGLM3-6B(Epoch=3, automade-dataset(fixed))-{timestamp}\""
   ]
  },
  {
   "cell_type": "code",
   "execution_count": 12,
   "id": "c132af6a-de3a-47fc-bb8a-3f5d57f7556b",
   "metadata": {},
   "outputs": [],
   "source": [
    "def compare_chatglm_results(query, base_model, qlora_model, training_tag):\n",
    "    base_response, base_history = base_model.chat(tokenizer, query)\n",
    "\n",
    "    inputs = tokenizer(query, return_tensors=\"pt\").to(0)\n",
    "    ft_out = qlora_model.generate(**inputs, max_new_tokens=512)\n",
    "    ft_response = tokenizer.decode(ft_out[0], skip_special_tokens=True)\n",
    "    \n",
    "    print(f\"问题：{query}\\n\\n原始输出：\\n{base_response}\\n\\n\\n微调后（{training_tag}）：\\n{ft_response}\")\n",
    "    return base_response, ft_response"
   ]
  },
  {
   "cell_type": "code",
   "execution_count": 13,
   "id": "df17fa91-6e87-420d-9517-ad7a51b95d83",
   "metadata": {},
   "outputs": [
    {
     "name": "stdout",
     "output_type": "stream",
     "text": [
      "问题：解释下乾卦是什么？\n",
      "\n",
      "原始输出：\n",
      "乾卦，是周易中的一卦，由两个乾卦叠加而成，代表天地的正义和刚健。在这个卦中，预示着君子观者，卦象显示了天地的刚健和正派。\n",
      "\n",
      "乾卦的卦象由六个阳爻组成，位于卦象的北部，代表君子。观者，君子观此卦象，感到天空广博、云彩高洁，心情变得宽广大大。因此，君子拟定了高明的君子 immur（pick up the ground），即\"高\")，来适应天空，展现君子的高尚品质。\n",
      "\n",
      "乾卦的卦象预示着天地的刚健和正派，代表着君子刚健的品质和坚定不屈的决心。在事业上，象征着君子刚健果敢， urgency，需要坚定决心，积极行动。在经商中，象征着商贾们刚健泉涌，大富大贵。在求名，表示君子们品德高尚，声誉高远。\n",
      "\n",
      "总体来说，乾卦是事业经商中的吉祥之卦，也是求名的正面之卦。然而，虽然卦象吉利，但并非完全有利于个人，需要根据实际情况来选择方案。对于经商和求名，需要坚定正义感，积极行动，以便获得美好的结果。\n",
      "\n",
      "\n",
      "微调后（ChatGLM3-6B(Epoch=3, automade-dataset(fixed))-20250826_092818）：\n",
      "[gMASK]sop 解释下乾卦是什么？ 在周易中，乾卦是六十四卦之首，由六个阳爻组成，象征着天。它所代表的是刚健、健行、刚健不屈的意境。乾卦的核心哲学是：天道刚健，运行不已，君子观此卦象，从而以天为法，自强不息。\n",
      "\n",
      "乾卦象征天，为大通而至正。得此卦者，名利双收，应把握机会，争取成果。然而，切勿过于骄傲自满，而应保持谦逊、冷静和警惕。在事业、经商、求名等方面，乾卦皆暗示着大吉大利，但也警示着必须坚持正道、修养德行，方能永远亨通。\n",
      "\n",
      "在婚恋方面，乾卦提示着阳盛阴衰，但也强调刚柔相济，相互补足，形成美满的结果。在决策方面，则是强调刚健、正直、公允，自强不息的实质，需要修养德行、坚定信念，方能克服困难，消除灾难。\n"
     ]
    }
   ],
   "source": [
    "# 微调前后效果对比\n",
    "base_response, ft_response = compare_chatglm_results(\"解释下乾卦是什么？\", base_model, qlora_model, training_tag)"
   ]
  },
  {
   "cell_type": "code",
   "execution_count": 14,
   "id": "ed4907e5-5a91-4197-99f1-6de02e11b17d",
   "metadata": {},
   "outputs": [
    {
     "name": "stdout",
     "output_type": "stream",
     "text": [
      "问题：周易中的讼卦是什么\n",
      "\n",
      "原始输出：\n",
      "{'name': '并要求对方用乾刚来相对应。如果刚卦与刚卦相待，则表示刚柔相济，刚中有柔，柔中有刚的平衡之象，这是一个吉祥的征兆。然而，如果动乱之情起自争卦，那么动乱之灾将无法避免。对于经商而言，经商之前应仔细规划，求得合理的经营策略，动乱之灾 inline-text-align:center;', 'content': \"\\n初六，始得愿fully，求得 first-rate 通晓，开始得到私欲，宜顺水推舟。初六纯阳，象征开始时 lies in the hands of the innocent and pure, who will eventually be rewarded.\\n\\n六二，得阴后脱，脱险得得，渡河拆桥 \\n\\n六三，水浅沙埋，困境难出，风险四伏，宜速寻解决办法。\\n\\n六四，entials 外，宜勇于 Indulging in luxury, but beware of risks, especially in business.\\n\\n六五，弦池之池，得志如登，如鱼得水，乐正无穷。\\n\\n六六，马到成功，功成得志，如镜破烂，万事具备。\\n\\n然而， these days, more and more people are seeking happiness and success in life, but the path to happiness and success is often long and difficult, and it's not always possible to achieve our goals right away. Therefore, it's important to be patient, persistent, and adaptable, and to embrace the changes and challenges that life presents. The outcome of the query depends on the rightousness and purity of the heart, as well as the courage and determination to overcome difficulties and obstacles.\"}\n",
      "\n",
      "\n",
      "微调后（ChatGLM3-6B(Epoch=3, automade-dataset(fixed))-20250826_092818）：\n",
      "[gMASK]sop 周易中的讼卦是什么样子 讼卦是一个充满警示的卦象。它由上卦乾（天）和下卦坎（水）组成，代表着天与水背道而驰，形成争讼的局面。虽然事情开始时有利可图，但必须警惕戒惧，因为中间虽然吉利，但最终会带来凶险。对于涉及大川，涉水渡河的行动不利。因此，君子观此卦象，应当慎之又慎，杜绝争讼之事，并在谋事之初谨慎行事。讼卦的核心哲学是要避免争讼，退而让人，求得化解，安于正理，方可避免意外之灾。在事业上，务必避免介入诉讼纠纷的争执之中，与其这样，不如退而让人。即使最终获胜，也难免得失不均。经商方面，要坚持公正、公平、互利的原则，避免冲突，这样会有好结果。而对于求名、婚恋和决策，也都需要慎重行事，避免盲目追求，退让让人，可助事业、婚姻和决策的发展。\n"
     ]
    }
   ],
   "source": [
    "base_response, ft_response = compare_chatglm_results(\"周易中的讼卦是什么\", base_model, qlora_model, training_tag)"
   ]
  },
  {
   "cell_type": "code",
   "execution_count": 15,
   "id": "0cf491ae-a12b-4653-abea-b84d4d9b2a3b",
   "metadata": {},
   "outputs": [
    {
     "name": "stdout",
     "output_type": "stream",
     "text": [
      "问题：师卦是什么？\n",
      "\n",
      "原始输出：\n",
      "在周易中，师卦是一个由坎卦（水）和坤卦（地）相叠而成的异卦。这一卦象代表着军队的力量和军情的总指挥，预示着吉祥无灾。象辞中描述了地中有水的情景，寓意着君子应当像大地一样容纳和畜养大众。师卦的解释强调选择德高望重的长者来统率军队，才能获得吉祥无咎。另外，师卦也象征着困难重重，需要包容别人、艰苦努力，及时行事，严于律已。在事业、经商、求名、婚恋等方面的决策中，都需要警惕潜在敌人，小心谨慎，合作与决断兼顾，方能成功。\n",
      "\n",
      "\n",
      "微调后（ChatGLM3-6B(Epoch=3, automade-dataset(fixed))-20250826_092818）：\n",
      "[gMASK]sop 师卦是什么？ 在周易中，师卦是一个由坎卦（水）和坤卦（地）相叠而成的异卦。这一卦象代表着军队的力量和军情的总指挥，预示着吉祥无灾。象辞中描述了地中有水的情景，寓意着君子应当像大地一样容纳和畜养大众。师卦的解释强调选择德高望重的长者来统率军队，才能获得吉祥无咎。另外，师卦也象征着困难重重，需要包容别人、艰苦努力，及时行事，严于律已。在事业、经商、求名、婚恋等方面的决策中，都需要警惕潜在敌人，小心谨慎，合作与决断兼顾，方能成功。\n"
     ]
    }
   ],
   "source": [
    "base_response, ft_response = compare_chatglm_results(\"师卦是什么？\", base_model, qlora_model, training_tag)"
   ]
  },
  {
   "cell_type": "code",
   "execution_count": null,
   "id": "4956a502-0610-4cc3-823f-746d91b0135e",
   "metadata": {},
   "outputs": [],
   "source": []
  }
 ],
 "metadata": {
  "kernelspec": {
   "display_name": "Python 3 (ipykernel)",
   "language": "python",
   "name": "python3"
  },
  "language_info": {
   "codemirror_mode": {
    "name": "ipython",
    "version": 3
   },
   "file_extension": ".py",
   "mimetype": "text/x-python",
   "name": "python",
   "nbconvert_exporter": "python",
   "pygments_lexer": "ipython3",
   "version": "3.10.12"
  }
 },
 "nbformat": 4,
 "nbformat_minor": 5
}
